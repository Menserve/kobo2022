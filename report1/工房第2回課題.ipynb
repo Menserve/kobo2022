{
 "cells": [
  {
   "cell_type": "markdown",
   "metadata": {},
   "source": [
    "### **深層学習による画像認識・画像生成　第1回課題**\n",
    "課題1.と2.\n",
    "AND, NAND, OR 回路を単純パーセプトロンにより表現する関数を実装する"
   ]
  },
  {
   "cell_type": "code",
   "execution_count": 4,
   "metadata": {},
   "outputs": [
    {
     "name": "stdout",
     "output_type": "stream",
     "text": [
      "x1 x2 AND NAND OR XOR\n",
      "(0, 0) -> 0100\n",
      "(1, 0) -> 0111\n",
      "(0, 1) -> 0111\n",
      "(1, 1) -> 1010\n"
     ]
    }
   ],
   "source": [
    "import numpy as np\n",
    "def AND(x1, x2):\n",
    "    x = np.array([x1, x2])\n",
    "    w = np.array([0.5, 0.5])\n",
    "    b = -0.7\n",
    "    y = np.sum(w*x) + b\n",
    "    if y <= 0:\n",
    "        return 0\n",
    "    else:\n",
    "        return 1\n",
    "\n",
    "def NAND(x1, x2):\n",
    "    x = np.array([x1, x2])\n",
    "    w = np.array([-0.5, -0.5])\n",
    "    b = 0.7\n",
    "    y = np.sum(w*x) + b\n",
    "    if y <= 0:\n",
    "        return 0\n",
    "    else:\n",
    "        return 1\n",
    "\n",
    "def OR(x1, x2):\n",
    "    x = np.array([x1, x2])\n",
    "    w = np.array([0.5, 0.5])\n",
    "    b = -0.2\n",
    "    y = np.sum(w*x) + b\n",
    "    if y <= 0:\n",
    "        return 0\n",
    "    else:\n",
    "        return 1\n",
    "    \n",
    "def XOR(x1, x2):\n",
    "    s1 = NAND(x1, x2)\n",
    "    s2 = OR(x1, x2)\n",
    "    y = AND(s1, s2)\n",
    "    return y\n",
    "\n",
    "#真理値表の項目名\n",
    "print(\"x1 x2 AND NAND OR XOR\")\n",
    "\n",
    "if __name__ == '__main__':\n",
    "    for xs in [(0, 0), (1, 0), (0, 1), (1, 1)]:\n",
    "        out_and = AND(xs[0], xs[1])\n",
    "        out_nand = NAND(xs[0], xs[1])\n",
    "        out_or = OR(xs[0], xs[1])\n",
    "        out_xor = XOR(xs[0], xs[1])\n",
    "        #真理値表の中身\n",
    "        print(str(xs) + \" -> \" + str(out_and) + str(out_nand) + str(out_or) + str(out_xor))"
   ]
  },
  {
   "cell_type": "markdown",
   "metadata": {},
   "source": [
    "課題3.,4.　シグモイド関数とソフトマックス関数の実装と、3層マルチパーセプトロンによるNN"
   ]
  },
  {
   "cell_type": "code",
   "execution_count": 11,
   "metadata": {},
   "outputs": [
    {
     "name": "stdout",
     "output_type": "stream",
     "text": [
      "[0.40625907 0.59374093]\n"
     ]
    }
   ],
   "source": [
    "import numpy as np\n",
    "#シグモイド関数とソフトマックス関数の実装\n",
    "def sigmoid(x):\n",
    "    return 1 / (1 + np.exp(-x))\n",
    "def identify_function(x):\n",
    "    c = np.max(x)\n",
    "    exp_a = np.exp(x - c)\n",
    "    sum_exp_a = np.sum(exp_a)\n",
    "    y = exp_a / sum_exp_a\n",
    "    return y\n",
    "\n",
    "def init_network():\n",
    "    network = {}\n",
    "    network['W1'] = np.array([[0.1, 0.3, 0.5], [0.2, 0.4, 0.6]])\n",
    "    network['b1'] = np.array([0.1, 0.2, 0.3])\n",
    "    network['W2'] = np.array([[0.1, 0.4], [0.2, 0.5], [0.3, 0.6]])\n",
    "    network['b2'] = np.array([0.1, 0.2])\n",
    "    network['W3'] = np.array([[0.1, 0.3], [0.2, 0.4]])\n",
    "    network['b3'] = np.array([0.1, 0.2])\n",
    "    return network\n",
    "def forward(network, x):\n",
    "    W1 = network['W1']\n",
    "    b1 = network['b1']\n",
    "    a1 = np.dot(x, W1) + b1\n",
    "    z1 = sigmoid(a1)\n",
    "    # layer2\n",
    "    W2 = network['W2']\n",
    "    b2 = network['b2']\n",
    "    a2 = np.dot(z1, W2) + b2\n",
    "    z2 = sigmoid(a2)\n",
    "    #layer3\n",
    "    W3 = network['W3']\n",
    "    b3 = network['b3']\n",
    "    a3 = np.dot(z2, W3) + b3\n",
    "    y = identify_function(a3)\n",
    "    return y\n",
    "\n",
    "network = init_network()\n",
    "x = np.array([1.0, 0.5])\n",
    "y = forward(network, x)\n",
    "print(y) # [ 0.31682708 0.69627909]"
   ]
  },
  {
   "cell_type": "code",
   "execution_count": null,
   "metadata": {},
   "outputs": [],
   "source": [
    "課題5.バッチ処理のイメージをつかむ"
   ]
  },
  {
   "cell_type": "code",
   "execution_count": 64,
   "metadata": {},
   "outputs": [],
   "source": [
    "import numpy as np\n",
    "import random  \n",
    "network = init_network()\n",
    "batch_size = 2 #2~64まで変化させた\n",
    "x=np.random.rand(100000,2)\n",
    "for i in range(0,len(x),batch_size):\n",
    "    x_batch = x[i:i+batch_size]\n",
    "    y_batch = forward(network, x_batch)"
   ]
  },
  {
   "cell_type": "markdown",
   "metadata": {},
   "source": [
    "結果と考察: 分割した小さい配列を少しずつ計算すると時間がかかるという趣旨の教科書の記載から、行列の行の数を大きくして、batch_sizeを変えて計算時間に違いが出るか調べた。小さなサイズでは体感でも明らかに時間がかかった。特にバッチサイズ2では処理したマシンだと手元の時計で3秒程度だったがバッチサイズ10以上だと1秒もかからなかった。（処理時間を測定する方法があったはずですが、実装に至りませんでした）"
   ]
  },
  {
   "cell_type": "code",
   "execution_count": 62,
   "metadata": {},
   "outputs": [],
   "source": [
    "import numpy as np\n",
    "import random  \n",
    "network = init_network()\n",
    "batch_size = 2\n",
    "x1=np.random.rand(25000, 2)\n",
    "for i in range(0,len(x),batch_size):\n",
    "    x_batch = x[i:i+batch_size]\n",
    "    y_batch = forward(network, x_batch)\n",
    "x2=np.random.rand(25000, 2)\n",
    "for i in range(0,len(x),batch_size):\n",
    "    x_batch = x[i:i+batch_size]\n",
    "    y_batch = forward(network, x_batch)\n",
    "x3=np.random.rand(25000, 2)\n",
    "for i in range(0,len(x),batch_size):\n",
    "    x_batch = x[i:i+batch_size]\n",
    "    y_batch = forward(network, x_batch)\n",
    "x4=np.random.rand(25000, 2)\n",
    "for i in range(0,len(x),batch_size):\n",
    "    x_batch = x[i:i+batch_size]\n",
    "    y_batch = forward(network, x_batch)"
   ]
  },
  {
   "cell_type": "markdown",
   "metadata": {},
   "source": [
    "結果と考察: 次にrand(100000, 2）を1/4 の行数の配列で4回逐次処理させると(100000, 2）を一回処理するよりも時間がかかった。以上のことから、配列計算は大きな配列を一度に計算させた方が早く計算が完了することが分かった。"
   ]
  },
  {
   "cell_type": "markdown",
   "metadata": {},
   "source": [
    "- 感想\n",
    "プログラミング系の講義は今回の講義が初めてだったので、かなり予習したつもりが一回で追いつかれてしまって焦っています。Githubの方もあるものをダウンロードするときついでにアカウントだけ作っただけでアップロード側として取り組むのは初めてでした。コマンドラインからアップロードする方法があるようですが、今回はGUIで実施しました。\n",
    "そもそも自分の書いたコードを見ていただくのも初めてです。おかしなところはどんどん指摘していただきたいと思います。また、現マシンに種々の問題があることから、思い切って今週新マシンを導入しました。初期設定と操作に戸惑いながら課題を提出させていただきます。内容十分ではないかもしれませんが、後でマシン一新の効果が出てくるかと思います。\n",
    "\n",
    "- 参考文献\n",
    "Github Docs ファイルをリポジトリに追加する\n",
    "https://docs.github.com/ja/repositories/working-with-files/managing-files/adding-a-file-to-a-repository"
   ]
  }
 ],
 "metadata": {
  "kernelspec": {
   "display_name": "Python 3 (ipykernel)",
   "language": "python",
   "name": "python3"
  },
  "language_info": {
   "codemirror_mode": {
    "name": "ipython",
    "version": 3
   },
   "file_extension": ".py",
   "mimetype": "text/x-python",
   "name": "python",
   "nbconvert_exporter": "python",
   "pygments_lexer": "ipython3",
   "version": "3.9.12"
  }
 },
 "nbformat": 4,
 "nbformat_minor": 4
}
